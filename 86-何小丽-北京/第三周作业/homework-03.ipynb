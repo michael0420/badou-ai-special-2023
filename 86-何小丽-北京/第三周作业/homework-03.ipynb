{
 "cells": [
  {
   "cell_type": "markdown",
   "id": "1e7e8cdb",
   "metadata": {},
   "source": [
    "#  1. python实现直方图均衡化原理"
   ]
  },
  {
   "cell_type": "code",
   "execution_count": 6,
   "id": "150a38f9",
   "metadata": {
    "scrolled": true
   },
   "outputs": [
    {
     "data": {
      "image/png": "[encoded data removed]",
      "text/plain": [
       "<Figure size 640x480 with 1 Axes>"
      ]
     },
     "metadata": {},
     "output_type": "display_data"
    }
   ],
   "source": [
    "import numpy as np\n",
    "import cv2 as cv\n",
    "from matplotlib import pyplot as plt\n",
    "\n",
    "# 读取图片\n",
    "img = cv.imread('gray_test.jpg', 0)\n",
    "# 将二维数字图像矩阵转变为一维向量\n",
    "rk = img.flatten()\n",
    "\n",
    "# 读取图片灰度直方图\n",
    "# bins为直方图直方柱的取值向量\n",
    "# hist为bins各取值区间上的频数取值\n",
    "hist, bins = np.histogram(rk, 256,[0, 256])\n",
    "\n",
    "# 计算累计分布函数\n",
    "hist_cum = hist.cumsum()\n",
    "\n",
    "# 计算灰度均衡化映射\n",
    "cdf = (hist_cum-hist_cum.min())*(255-0)/(hist_cum.max() - hist_cum.min()) + 0\n",
    "cdf = cdf.astype('uint8')\n",
    "\n",
    "# 原始图像灰度直方图\n",
    "plt.hist(rk, 256, [0, 255], color = 'r')\n",
    "cv.imshow('原图像', img)\n",
    "\n",
    "# 直方图均衡化\n",
    "imgDst = cdf[img]\n",
    "cv.imshow(\"直方图均衡化后的图像\", imgDst)\n",
    "plt.hist(imgDst.flatten(), 256, [0, 255], color = 'b')\n",
    "\n",
    "plt.show()"
   ]
  },
  {
   "cell_type": "markdown",
   "id": "913b1042",
   "metadata": {},
   "source": []
  },
  {
   "cell_type": "markdown",
   "id": "54cf37db",
   "metadata": {},
   "source": []
  },
  {
   "cell_type": "markdown",
   "id": "7788f515",
   "metadata": {},
   "source": [
    "# 2. python实现高斯噪声原理"
   ]
  },
  {
   "cell_type": "code",
   "execution_count": 8,
   "id": "4961643a",
   "metadata": {},
   "outputs": [
    {
     "data": {
      "text/plain": [
       "-1"
      ]
     },
     "execution_count": 8,
     "metadata": {},
     "output_type": "execute_result"
    }
   ],
   "source": [
    "import numpy as np\n",
    "import cv2 as cv\n",
    "import random\n",
    "\n",
    "\n",
    "img_gau = cv.imread('gray_test.jpg', 0)\n",
    "NoiseImg = img_gau\n",
    "NoiseNum = int(0.8*img_gau.shape[0]*img_gau.shape[1])\n",
    "for i in range(NoiseNum):\n",
    "    # 每次取一个随机点\n",
    "    # 把一张图片的像素用行和列表示的话，randX代表随机生成的行， randY代表随机生成的列\n",
    "    # random.randint生成随机整数\n",
    "    # 高斯噪声图片边缘不处理，故为-1.\n",
    "    randX = random.randint(0, img_gau.shape[0]-1)\n",
    "    randY = random.randint(0, img_gau.shape[1]-1)\n",
    "    # 此处在原有像素灰度值上加上随机数\n",
    "    NoiseImg[randX,randY] = NoiseImg[randX,randY]+random.gauss(2, 4)\n",
    "    # 若灰度值小于0则强制为0，若灰度值大于255则强制为255\n",
    "    if NoiseImg[randX,randY]<0:\n",
    "        NoiseImg[randX,randY] = 0\n",
    "    elif NoiseImg[randX,randY]>255:\n",
    "        NoiseImg[randX,randY] = 255\n",
    "img_origin = cv.imread('gray_test.jpg')\n",
    "img2 = cv.cvtColor(img_origin, cv.COLOR_BGR2GRAY)\n",
    "cv.imshow('原图像', img2)\n",
    "cv.imshow('高斯噪声图', NoiseImg)\n",
    "cv.waitKey(0)"
   ]
  },
  {
   "cell_type": "markdown",
   "id": "61cddbf4",
   "metadata": {},
   "source": []
  },
  {
   "cell_type": "markdown",
   "id": "d9931a0c",
   "metadata": {},
   "source": []
  },
  {
   "cell_type": "markdown",
   "id": "b35212f6",
   "metadata": {},
   "source": [
    "# 3.python实现椒盐噪声原理"
   ]
  },
  {
   "cell_type": "code",
   "execution_count": null,
   "id": "7fddae4e",
   "metadata": {},
   "outputs": [],
   "source": [
    "import numpy as np\n",
    "import cv2 as cv\n",
    "import random\n",
    "\n",
    "\n",
    "img_gau = cv.imread('gray_test.jpg', 0)\n",
    "NoiseImg = img_gau\n",
    "NoiseNum = int(0.2*img_gau.shape[0]*img_gau.shape[1])\n",
    "for i in range(NoiseNum):\n",
    "    # 每次取一个随机点\n",
    "    # 把一张图片的像素用行和列表示的话，randX代表随机生成的行， randY代表随机生成的列\n",
    "    # random.randint生成随机整数\n",
    "    # 椒盐噪声图片边缘不处理，故为-1.\n",
    "    randX = random.randint(0, img_gau.shape[0]-1)\n",
    "    randY = random.randint(0, img_gau.shape[1]-1)\n",
    "    # random.random生成随机浮点数，随意取到一个像素点有一半的可能是白点255，一半的可能是黑点0\n",
    "    if random.random()<=0.5:\n",
    "        NoiseImg[randX,randY] = 0\n",
    "    else:\n",
    "        NoiseImg[randX,randY] = 255\n",
    "\n",
    "img_origin = cv.imread('gray_test.jpg')\n",
    "img2 = cv.cvtColor(img_origin, cv.COLOR_BGR2GRAY)\n",
    "cv.imshow('source', img2)\n",
    "cv.imshow('test', NoiseImg)\n",
    "cv.waitKey(0)"
   ]
  }
 ],
 "metadata": {
  "kernelspec": {
   "display_name": "Python 3 (ipykernel)",
   "language": "python",
   "name": "python3"
  },
  "language_info": {
   "codemirror_mode": {
    "name": "ipython",
    "version": 3
   },
   "file_extension": ".py",
   "mimetype": "text/x-python",
   "name": "python",
   "nbconvert_exporter": "python",
   "pygments_lexer": "ipython3",
   "version": "3.7.0"
  }
 },
 "nbformat": 4,
 "nbformat_minor": 5
}
