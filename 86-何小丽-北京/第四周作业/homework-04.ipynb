{
 "cells": [
  {
   "cell_type": "markdown",
   "id": "07cc17a2",
   "metadata": {},
   "source": [
    "# 1.1 python实现pca（detail）"
   ]
  },
  {
   "cell_type": "code",
   "execution_count": 13,
   "id": "d9b8d9e9",
   "metadata": {},
   "outputs": [
    {
     "name": "stdout",
     "output_type": "stream",
     "text": [
      "PCA法降维之后的矩矩阵如下： [[ -4.56200104 -21.2336912 ]\n",
      " [-39.28629002 -15.26038349]\n",
      " [-13.30247561 -32.55597794]\n",
      " [  2.71190993 -25.49365577]\n",
      " [-47.37858268 -38.02120912]\n",
      " [-42.36990935  -6.0258027 ]\n",
      " [-16.00097294 -14.43926499]\n",
      " [ -0.822856   -13.7001301 ]\n",
      " [ -5.42741864 -18.56462272]\n",
      " [-13.80800193 -28.51385518]]\n"
     ]
    }
   ],
   "source": [
    "import numpy as np\n",
    "#10样本3特征的样本集, 行为样例，列为特征维度\n",
    "#样本矩阵X\n",
    "X = np.array([[10, 15, 29],\n",
    "              [15, 46, 13],\n",
    "              [23, 21, 30],\n",
    "              [11, 9,  35],\n",
    "              [42, 45, 11],\n",
    "              [9,  48, 5],\n",
    "              [11, 21, 14],\n",
    "              [8,  5,  15],\n",
    "              [11, 12, 21],\n",
    "              [21, 20, 25]])\n",
    "#K阶降维矩阵的K值\n",
    "K = np.shape(X)[1] - 1\n",
    "#矩阵X的中心化\n",
    "centrX = [] \n",
    "#样本集的协方差矩阵C\n",
    "C = []\n",
    "#样本矩阵X的降维转换矩阵\n",
    "U = [] \n",
    "#样本矩阵X的降维矩阵Z\n",
    "Z = []    \n",
    "\n",
    "'''矩阵X的中心化'''\n",
    "mean = np.array([np.mean(attr) for attr in X.T])\n",
    "#样本集的中心化\n",
    "centrX = X - mean\n",
    "\n",
    "'''求样本矩阵X的协方差矩阵C'''\n",
    "#样本集的样例总数\n",
    "ns = np.shape(centrX)[0]\n",
    "#样本矩阵的协方差矩阵C\n",
    "C = np.dot(centrX.T, centrX)/(ns - 1)\n",
    "\n",
    "'''求X的降维转换矩阵U, shape=(n,k), n是X的特征维度总数，k是降维矩阵的特征维度'''\n",
    "#先求X的协方差矩阵C的特征值和特征向量\n",
    "#特征值赋值给a，对应特征向量赋值给b。\n",
    "a,b = np.linalg.eig(C) \n",
    "#给出特征值降序的topK的索引序列\n",
    "ind = np.argsort(-1*a)\n",
    "#构建K阶降维的降维转换矩阵U\n",
    "UT = [b[:,ind[i]] for i in range(K)]\n",
    "U = np.transpose(UT)\n",
    "\n",
    "'''按照Z=XU求降维矩阵Z, shape=(m,k), n是样本总数，k是降维矩阵中特征维度总数'''\n",
    "Z = np.dot(X, U)\n",
    "\n",
    "print('PCA法降维之后的矩矩阵如下：',Z)"
   ]
  },
  {
   "cell_type": "markdown",
   "id": "85daccec",
   "metadata": {},
   "source": [
    "# 1.2 python实现pca（调接口）"
   ]
  },
  {
   "cell_type": "code",
   "execution_count": 14,
   "id": "efc40f1d",
   "metadata": {},
   "outputs": [
    {
     "name": "stdout",
     "output_type": "stream",
     "text": [
      "[0.95713353 0.03398198 0.00872022]\n",
      "[[  7.96504337   4.12166867   1.43741053]\n",
      " [ -0.43650137   2.07052079  -0.9937735 ]\n",
      " [-13.63653266   1.86686164  -1.76428642]\n",
      " [-22.28361821  -2.32219188   2.06505529]\n",
      " [  3.47849303  -3.95193502  -1.33526047]\n",
      " [ 24.91311585  -1.78492421   0.59085455]]\n"
     ]
    }
   ],
   "source": [
    "#coding=utf-8\n",
    "\n",
    "import numpy as np\n",
    "from sklearn.decomposition import PCA\n",
    "X = np.array([[-1,2,66,-1], [-2,6,58,-1], [-3,8,45,-2], [1,9,36,1], [2,10,62,1], [3,5,83,2]])  #导入数据，维度为4\n",
    "pca = PCA(n_components=3)   #降到2维\n",
    "pca.fit(X)                  #训练\n",
    "newX=pca.fit_transform(X)   #降维后的数据\n",
    "# PCA(copy=True, n_components=2, whiten=False)\n",
    "print(pca.explained_variance_ratio_)  #输出贡献率\n",
    "print(newX)                  #输出降维后的数据"
   ]
  },
  {
   "cell_type": "code",
   "execution_count": null,
   "id": "25928496",
   "metadata": {},
   "outputs": [],
   "source": []
  },
  {
   "cell_type": "markdown",
   "id": "624cf9ab",
   "metadata": {},
   "source": [
    "# 2.实现canny（调接口）"
   ]
  },
  {
   "cell_type": "code",
   "execution_count": 17,
   "id": "d5fab568",
   "metadata": {},
   "outputs": [
    {
     "data": {
      "text/plain": [
       "-1"
      ]
     },
     "execution_count": 17,
     "metadata": {},
     "output_type": "execute_result"
    }
   ],
   "source": [
    "import cv2\n",
    "import matplotlib.pyplot as plt\n",
    "\n",
    "img = cv2.imread('gray_test.jpg')\n",
    "# 原图灰度化\n",
    "img_gray = cv2.cvtColor(img, cv2.COLOR_BGR2RGB)\n",
    "# 高斯滤波 卷积 3*3\n",
    "img_blur = cv2.GaussianBlur(img_gray, (3, 3), 0)\n",
    "# x梯度\n",
    "xgrad = cv2.Sobel(img_blur, cv2.CV_16SC1, 1, 0)\n",
    "# y梯度\n",
    "ygrad = cv2.Sobel(img_blur, cv2.CV_16SC1, 0, 1)\n",
    "# 使用梯度参数进行边缘检测 阈值50-150\n",
    "edge1 = cv2.Canny(xgrad, ygrad, 50, 150)\n",
    "# 直接用高斯滤波结果进行边缘检测 阈值 50-150\n",
    "edge2 = cv2.Canny(img_blur, 50, 150)\n",
    "cv2.imshow('origin image', img)\n",
    "cv2.imshow('origin image', edge1)\n",
    "cv2.imshow('origin image', edge2)\n",
    "cv2.waitKey()"
   ]
  }
 ],
 "metadata": {
  "kernelspec": {
   "display_name": "Python 3 (ipykernel)",
   "language": "python",
   "name": "python3"
  },
  "language_info": {
   "codemirror_mode": {
    "name": "ipython",
    "version": 3
   },
   "file_extension": ".py",
   "mimetype": "text/x-python",
   "name": "python",
   "nbconvert_exporter": "python",
   "pygments_lexer": "ipython3",
   "version": "3.7.0"
  }
 },
 "nbformat": 4,
 "nbformat_minor": 5
}
