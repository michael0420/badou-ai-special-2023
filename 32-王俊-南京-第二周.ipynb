{
 "cells": [
  {
   "cell_type": "code",
   "execution_count": 4,
   "id": "1fa4edbf",
   "metadata": {},
   "outputs": [
    {
     "data": {
      "image/png": "[encoded data removed]",
      "text/plain": [
       "<Figure size 432x288 with 1 Axes>"
      ]
     },
     "metadata": {
      "needs_background": "light"
     },
     "output_type": "display_data"
    }
   ],
   "source": [
    "# 1、灰度化 & 二值化\n",
    "# 引入cv\n",
    "import cv2\n",
    "# 引入numpy 创建图片\n",
    "import numpy as np\n",
    "# 引入写好的方法\n",
    "from skimage.color import rgb2gray\n",
    "\n",
    "import matplotlib.pyplot as plt\n",
    "\n",
    "img = cv2.imread(\"lenna.png\")\n",
    "\n",
    "# print(img)\n",
    "# 显示原图\n",
    "# cv2.imshow(\"111\",img)\n",
    "# cv2.waitKey(0)\n",
    "# 获取图片的高（high）和宽(wide)\n",
    "# h,w = img.shape[:2]\n",
    "# 创建一张单通道图片 （灰度化 单通道）传入高宽和类型\n",
    "# img_gray = np.zeros([h,w],img.dtype)\n",
    "# 手写算法\n",
    "# for i in range(h):\n",
    "#     for j in range(w):\n",
    "#         #取出当前high和wide中的BGR坐标\n",
    "#         m = img[i,j]            \n",
    "#         #将BGR坐标转化为gray坐标并赋值给新图像\n",
    "#         img_gray[i,j] = int(m[0]*0.11 + m[1]*0.59 + m[2]*0.3) \n",
    "# 显示灰度化        \n",
    "# cv2.imshow(\"222\",img_gray)     \n",
    "# cv2.waitKey(0)\n",
    "# 灰度化\n",
    "img_gray = rgb2gray(img)\n",
    "# cv2.imshow(\"333\",img_gray) \n",
    "# cv2.waitKey(0)\n",
    "\n",
    "# 二值化\n",
    "img_binary = np.where(img_gray >= 0.5,1,0)\n",
    "\n",
    "# cv2.imshow(\"444\",img_binary)    显示报错\n",
    "# cv2.waitKey(0)\n",
    "plt.subplot(221) \n",
    "plt.imshow(img_binary, cmap='gray')\n",
    "plt.show()"
   ]
  },
  {
   "cell_type": "code",
   "execution_count": 3,
   "id": "17962112",
   "metadata": {},
   "outputs": [
    {
     "data": {
      "text/plain": [
       "-1"
      ]
     },
     "execution_count": 3,
     "metadata": {},
     "output_type": "execute_result"
    }
   ],
   "source": [
    "# 2.最邻近插值\n",
    "\n",
    "import cv2\n",
    "import numpy as np\n",
    "\n",
    "# 定义一个方法\n",
    "def function(img):\n",
    "    height,width,channels =img.shape\n",
    "    emptyImage=np.zeros((1000,1000,channels),np.uint8)\n",
    "    sh=1000/height\n",
    "    sw=1000/width\n",
    "    for i in range(1000):\n",
    "        for j in range(1000):\n",
    "            x=int(i/sh + 0.5)  #int(),转为整型，使用向下取整。\n",
    "            y=int(j/sw + 0.5)\n",
    "            emptyImage[i,j]=img[x,y]\n",
    "    return emptyImage\n",
    "    \n",
    "\n",
    "img=cv2.imread(\"lenna.png\")\n",
    "zoom=function(img)\n",
    "# print(zoom)\n",
    "# print(zoom.shape)\n",
    "cv2.imshow(\"nearest interp\",zoom)\n",
    "cv2.imshow(\"image\",img)\n",
    "cv2.waitKey(0)\n"
   ]
  },
  {
   "cell_type": "code",
   "execution_count": 5,
   "id": "a8b66c08",
   "metadata": {},
   "outputs": [
    {
     "data": {
      "text/plain": [
       "-1"
      ]
     },
     "execution_count": 5,
     "metadata": {},
     "output_type": "execute_result"
    }
   ],
   "source": [
    "# 双线性插值\n",
    "\n",
    "import numpy as np\n",
    "import cv2\n",
    " \n",
    "def f(img,out_dim):\n",
    "    src_h, src_w, channel = img.shape\n",
    "    dst_h, dst_w = out_dim[1], out_dim[0]\n",
    "#     print (\"src_h, src_w = \", src_h, src_w)\n",
    "#     print (\"dst_h, dst_w = \", dst_h, dst_w)\n",
    "    \n",
    "    # 如果高宽和原图相等则返回原图\n",
    "    if src_h == dst_h and src_w == dst_w:\n",
    "        return img.copy()\n",
    "    dst_img = np.zeros((dst_h,dst_w,3),dtype=np.uint8)\n",
    "    scale_x, scale_y = float(src_w) / dst_w, float(src_h) / dst_h\n",
    "    for i in range(3):\n",
    "        for dst_y in range(dst_h):\n",
    "            for dst_x in range(dst_w):\n",
    " \n",
    "                # find the origin x and y coordinates of dst image x and y\n",
    "                # use geometric center symmetry\n",
    "                # if use direct way, src_x = dst_x * scale_x\n",
    "                src_x = (dst_x + 0.5) * scale_x-0.5\n",
    "                src_y = (dst_y + 0.5) * scale_y-0.5\n",
    " \n",
    "                # find the coordinates of the points which will be used to compute the interpolation\n",
    "                src_x0 = int(np.floor(src_x))\n",
    "                src_x1 = min(src_x0 + 1 ,src_w - 1)\n",
    "                src_y0 = int(np.floor(src_y))\n",
    "                src_y1 = min(src_y0 + 1, src_h - 1)\n",
    " \n",
    "                # calculate the interpolation\n",
    "                temp0 = (src_x1 - src_x) * img[src_y0,src_x0,i] + (src_x - src_x0) * img[src_y0,src_x1,i]\n",
    "                temp1 = (src_x1 - src_x) * img[src_y1,src_x0,i] + (src_x - src_x0) * img[src_y1,src_x1,i]\n",
    "                dst_img[dst_y,dst_x,i] = int((src_y1 - src_y) * temp0 + (src_y - src_y0) * temp1)\n",
    " \n",
    "    return dst_img\n",
    " \n",
    "i = cv2.imread('lenna.png')\n",
    "dst = f(i,(1000,1000))\n",
    "cv2.imshow('bilinear interp',dst)\n",
    "cv2.imshow(\"image\",i)\n",
    "cv2.waitKey()\n"
   ]
  }
 ],
 "metadata": {
  "kernelspec": {
   "display_name": "Python 3",
   "language": "python",
   "name": "python3"
  },
  "language_info": {
   "codemirror_mode": {
    "name": "ipython",
    "version": 3
   },
   "file_extension": ".py",
   "mimetype": "text/x-python",
   "name": "python",
   "nbconvert_exporter": "python",
   "pygments_lexer": "ipython3",
   "version": "3.8.8"
  }
 },
 "nbformat": 4,
 "nbformat_minor": 5
}
